{
 "cells": [
  {
   "cell_type": "markdown",
   "metadata": {},
   "source": [
    "<h2><center>Week 1 - Assignment</center></h2>\n",
    "<h3><center>Programming for Data Science 2025</center></h3>"
   ]
  },
  {
   "cell_type": "markdown",
   "metadata": {},
   "source": [
    "Exercises for the topics covered in the first lecture.\n",
    "\n",
    "The exercise will be marked as passed if you get **at least 10/16** points.\n",
    "\n",
    "Exercises must be handed in via **ILIAS** (Homework assignments). Deliver your submission as a compressed file (zip) containing one .py or .ipynb file with all exercises. The name of both the .zip and the .py/.ipynb file must be *SurnameName* of the two members of the group. Example: Annina Helmy + Markus Anwander = *HelmyAnnina_AnwanderMarkus.zip* .\n",
    "\n",
    "It's important to use comments to explain your code and show that you're able to take ownership of the exercises and discuss them.\n",
    "\n",
    "You are not expected to collaborate outside of the group on exercises and submitting other groups’ code as your own will result in 0 points.\n",
    "\n",
    "For question about the lecture content or exam, contact: *annina.helmy@students.unibe.ch* with the subject: *Programming for Data Science 2025 - Lecture XY*.\n",
    "For questions about the excercise/grading of excercises, contact: *thea.waldleben@students.unibe.ch* or *patricia.gribi@students.unibe.ch* with the subject: *Programming for Data Science 2025 - Excercise XY*.\n",
    "\n",
    "**Deadline: 14:00, February 27, 2025.**"
   ]
  },
  {
   "cell_type": "markdown",
   "metadata": {},
   "source": [
    "<h3 style=\"text-align:left;\">Exercise 1 - Indentation<span style=\"float: right\">1 point</span></h3>"
   ]
  },
  {
   "cell_type": "markdown",
   "metadata": {},
   "source": [
    "Fix the indentation in the following code. Output should be ”[0, 1, 2]”."
   ]
  },
  {
   "cell_type": "code",
   "execution_count": 19,
   "metadata": {},
   "outputs": [
    {
     "name": "stdout",
     "output_type": "stream",
     "text": [
      "[0, 1, 2]\n"
     ]
    }
   ],
   "source": [
    "N_max = 5\n",
    "n = 0\n",
    "n_list = []\n",
    "\n",
    "for n in range(N_max):\n",
    "    if n < 3:\n",
    "        n_list.append(n)\n",
    "\n",
    "print(n_list)"
   ]
  },
  {
   "cell_type": "markdown",
   "metadata": {},
   "source": [
    "<h3 style=\"text-align:left;\">Exercise 2 - Python variables<span style=\"float: right\">1 point</span></h3>"
   ]
  },
  {
   "cell_type": "markdown",
   "metadata": {},
   "source": [
    "In class, you've seen how Python variables are internally stored. Given the following piece of code, what do you expect to happen? Why? How can you check where the two lists are stored in memory? Comment and write additional code."
   ]
  },
  {
   "cell_type": "code",
   "execution_count": null,
   "metadata": {
    "ExecuteTime": {
     "end_time": "2025-01-31T08:50:55.267118Z",
     "start_time": "2025-01-31T08:50:55.262753Z"
    }
   },
   "outputs": [
    {
     "ename": "",
     "evalue": "",
     "output_type": "error",
     "traceback": [
      "\u001b[1;31mRunning cells with '/usr/local/bin/python3' requires the ipykernel package.\n",
      "\u001b[1;31mRun the following command to install 'ipykernel' into the Python environment. \n",
      "\u001b[1;31mCommand: '/usr/local/bin/python3 -m pip install ipykernel -U --user --force-reinstall'"
     ]
    }
   ],
   "source": [
    "# Define two lists\n",
    "list1 = [1, 2, 3]\n",
    "list2 = list1\n",
    "#list2 and list1 point to the same space in the memory. This can be checked using id \n",
    "print(f\"{id(list1)}, {id(list2)}\") #Both list1 and list2 have the same id. \n",
    "\n",
    "# Append\n",
    "list2.append(4)\n",
    "list1 = [5, 6, 7] #list1 will now be saved as 5, 6, 7... this will not change the output of list2. \n",
    "print(list1)"
   ]
  },
  {
   "cell_type": "markdown",
   "metadata": {},
   "source": [
    "What is the difference between the following list *lst* and tuple *tpl*? Comment."
   ]
  },
  {
   "cell_type": "code",
   "execution_count": null,
   "metadata": {},
   "outputs": [
    {
     "ename": "",
     "evalue": "",
     "output_type": "error",
     "traceback": [
      "\u001b[1;31mRunning cells with '/usr/local/bin/python3' requires the ipykernel package.\n",
      "\u001b[1;31mRun the following command to install 'ipykernel' into the Python environment. \n",
      "\u001b[1;31mCommand: '/usr/local/bin/python3 -m pip install ipykernel -U --user --force-reinstall'"
     ]
    }
   ],
   "source": [
    "lst = [1, 2, 3]\n",
    "tpl = (1, 2, 3)\n",
    "\n",
    "#lists are mutable, while tuples are immutable"
   ]
  },
  {
   "cell_type": "markdown",
   "metadata": {},
   "source": [
    "<h3 style=\"text-align:left;\">Exercise 2 - List intersection<span style=\"float: right\">1 points</span></h3>"
   ]
  },
  {
   "cell_type": "markdown",
   "metadata": {},
   "source": [
    "Write a program that takes two lists, and returns another list with the elements common to both of them. Example:\n",
    "```python \n",
    "list1 = [1, 2, 3]\n",
    "list2 = [3, 4, 5]\n",
    "output = [3]\n",
    "```\n",
    "Additionally,\n",
    "- Write the code as a function called *lists_intersection* that takes two lists as input as gives the intersection list as output."
   ]
  },
  {
   "cell_type": "code",
   "execution_count": 11,
   "metadata": {},
   "outputs": [
    {
     "name": "stdout",
     "output_type": "stream",
     "text": [
      "[3]\n"
     ]
    },
    {
     "data": {
      "text/plain": [
       "[3, 4, 77]"
      ]
     },
     "execution_count": 11,
     "metadata": {},
     "output_type": "execute_result"
    }
   ],
   "source": [
    "###\n",
    "list1 = [1, 2, 3]\n",
    "list2 = [3, 4, 5]\n",
    "\n",
    "#Create output list \n",
    "output = list(set(list1) & set(list2))\n",
    "print(output)\n",
    "\n",
    "\n",
    "def lists_intersection(list1, list2):\n",
    "    \"\"\"Prints list intersection of two lists \n",
    "\n",
    "    Args:\n",
    "        list1 (list): some list\n",
    "        list2 (list): another list\n",
    "\n",
    "    Returns:\n",
    "        list: list with common elements between list1 and list2\n",
    "    \"\"\"\n",
    "    intersection = list(set(list1) & set(list2)) \n",
    "    return intersection\n",
    "\n",
    "listA = [2, 3, 4, 5, 6, 77, 8, 44]\n",
    "listB = [3, 4, 77, 789, 13, 30]\n",
    "\n",
    "lists_intersection(listA, listB)\n",
    "###"
   ]
  },
  {
   "cell_type": "markdown",
   "metadata": {},
   "source": [
    "<h3 style=\"text-align:left;\">Exercise 3 - Strings filter<span style=\"float: right\">2 points</span></h3>"
   ]
  },
  {
   "cell_type": "markdown",
   "metadata": {},
   "source": [
    "Write a function named *strings_filter* that takes a list of strings and a number and returns another list with only the strings *shorter* than that number. Example:\n",
    "```python \n",
    "strings_filter([\"Python\", \"hello\", \"C++\"], 4)   # returns [\"C++\"]\n",
    "strings_filter([\"Python\", \"hello\", \"C++\"], 6)   # returns [\"hello\", \"C++\"]\n",
    "```\n",
    "Hint: you can accomplish this using a for loop."
   ]
  },
  {
   "cell_type": "code",
   "execution_count": 4,
   "metadata": {},
   "outputs": [
    {
     "data": {
      "text/plain": [
       "['C++']"
      ]
     },
     "execution_count": 4,
     "metadata": {},
     "output_type": "execute_result"
    }
   ],
   "source": [
    "### \n",
    "def strings_filter (string_list, number):\n",
    "    \"\"\"\n",
    "\n",
    "    Args:\n",
    "        string_list (_type_): _description_\n",
    "        number (_type_): _description_\n",
    "\n",
    "    Returns:\n",
    "        _type_: _description_\n",
    "    \"\"\"\n",
    "    shorter = list()\n",
    "    for elem in string_list:\n",
    "        if len(elem) < number:\n",
    "            shorter.append(elem)\n",
    "    return shorter\n",
    "\n",
    "strings_filter([\"Python\", \"hello\", \"C++\"], 4)\n",
    "###"
   ]
  },
  {
   "cell_type": "markdown",
   "metadata": {},
   "source": [
    "<h3 style=\"text-align:left;\">Exercise 4 - Leap years on Mars<span style=\"float: right\">4 points</span></h3>"
   ]
  },
  {
   "cell_type": "markdown",
   "metadata": {},
   "source": [
    "2024 is a leap year on Earth, meaning a year has one more day (29th of February). On Earth, leap years are those that are divisible by 4 (like 2024, 2028, etc.). \n",
    "\n",
    "On Mars, instead, leap years are those divisible by 6 (like 2028, 2034, etc.), with some exceptions:\n",
    "- if a year is divisible by 120 (e.g. 1680) or 36 (e.g. 2016), it's *not* a leap year.\n",
    "- however, if the year is divisible by 600 (e.g. 1800), it *is* a leap year, independently of the previous condition.\n",
    "\n",
    "Your task is to write a function named *is_leap_year* that asks the user to input a year, and returns True if it is a leap year on Mars, False otherwise. Example:\n",
    "```python\n",
    "is_leap_year(2028)  # returns True\n",
    "is_leap_year(2024)  # returns False (not divisible by 6)\n",
    "is_leap_year(1680)  # returns False (divisible by 120)\n",
    "is_leap_year(1800)  # returns True (divisible by 600)\n",
    "is_leap_year(2016)  # returns False (is divisible by 36)\n",
    "```\n",
    "N.B. The return type must be *boolean*.\n",
    "\n",
    "Additionally:\n",
    "- add a constrain that prints \"Can't calculate leap year\" if the given year is before 0 or after 5000."
   ]
  },
  {
   "cell_type": "code",
   "execution_count": 61,
   "metadata": {},
   "outputs": [
    {
     "name": "stdout",
     "output_type": "stream",
     "text": [
      "False (divisible by 120)\n"
     ]
    },
    {
     "data": {
      "text/plain": [
       "False"
      ]
     },
     "execution_count": 61,
     "metadata": {},
     "output_type": "execute_result"
    }
   ],
   "source": [
    "###\n",
    "\n",
    "def is_leap_year(year):\n",
    "    \"\"\"Checks if inputted year is a leap year\n",
    "\n",
    "    Args:\n",
    "        year (int): Enter a year\n",
    "\n",
    "    Returns:\n",
    "        bool: If year is a leap year or not\n",
    "    \"\"\"\n",
    "    \n",
    "    if year <= 0 or year >= 5000:\n",
    "        print(f\"Can't calculate leap year\") #Add constraint \n",
    "        return None\n",
    "    elif year % 6 != 0:\n",
    "        print (f\"{False} (not divisible by 6)\")\n",
    "        return False\n",
    "    elif year % 600 == 0: \n",
    "        print(f\"{True} (divisible by 600)\")\n",
    "        return True\n",
    "    elif year % 120 == 0 :\n",
    "        print(f\"{False} (divisible by 120)\")\n",
    "        return False\n",
    "    elif year % 36 == 0:\n",
    "        print(f\"{False} (divisible by 36)\")\n",
    "        return False\n",
    "    elif year % 6 == 0:\n",
    "        print(f\"{True}\")\n",
    "        return True\n",
    "\n",
    "is_leap_year(2024)\n",
    "###"
   ]
  },
  {
   "cell_type": "markdown",
   "metadata": {},
   "source": [
    "<h3 style=\"text-align:left;\">Exercise 5 - Number divisors<span style=\"float: right\">4 points</span></h3>"
   ]
  },
  {
   "cell_type": "markdown",
   "metadata": {},
   "source": [
    "A divisor of a number, is another number that divides the first number without reminder, e.g. 4 is a divisor of 20. 1 and the number itself are always divisors. \n",
    "\n",
    "Write a function named *find_divisors* that takes a number in input and returns *all* its divisors. Example:\n",
    "```python \n",
    "find_divisors(20)  # returns [1, 2, 4, 5, 10, 20]\n",
    "find_divisors(7)  # returns [1, 7]\n",
    "```\n",
    "Additionally:\n",
    "- write a second version of the function called *find_common_divisors* that takes two numbers and returns all the *common* divisors. Example:\n",
    "```python \n",
    "find_common_divisors(20, 30)  # returns [1, 2, 5, 10]\n",
    "find_common_divisors(5, 7)  # returns [1]\n",
    "```\n",
    "Hint: exploit the previous function *find_divisors* to build this one."
   ]
  },
  {
   "cell_type": "code",
   "execution_count": 2,
   "metadata": {},
   "outputs": [
    {
     "name": "stdout",
     "output_type": "stream",
     "text": [
      "[1, 7]\n",
      "[1, 2, 10, 5]\n"
     ]
    }
   ],
   "source": [
    "###\n",
    "def find_divisor(number):\n",
    "    \"\"\"finds all divisors of a number\n",
    "\n",
    "    Args:\n",
    "        number (intger): any positive integer\n",
    "\n",
    "    Returns:\n",
    "        list: all integer divisors \n",
    "    \"\"\"\n",
    "    divisors = list()\n",
    "    for i in range(1,number+1):\n",
    "        if number % i == 0:\n",
    "            divisors.append(i)\n",
    "    return divisors \n",
    "\n",
    "def find_common_divisors(number1, number2):\n",
    "        common_divisors = set(find_divisor(number1)) & set(find_divisor(number2)) # find common divisors elements with a set  \n",
    "        return  list(common_divisors)\n",
    "### \n",
    "\n",
    "# tests\n",
    "print (find_divisor(number=7))\n",
    "print (find_common_divisors(number1=20,number2=30))\n"
   ]
  },
  {
   "cell_type": "markdown",
   "metadata": {},
   "source": [
    "<h3 style=\"text-align:left;\">Exercise 6 (on paper) - For and While <span style=\"float: right\">3 points</span></h3>\n"
   ]
  },
  {
   "cell_type": "markdown",
   "metadata": {},
   "source": [
    "Hand this exercise in on paper. Write the code for the following tasks. Make sure to comment your code and explain your solution."
   ]
  },
  {
   "cell_type": "markdown",
   "metadata": {},
   "source": [
    "**Task 1**\n",
    "Fix the error. Explain what the error is and why it occurs.\n",
    "```python\n",
    "x = 1\n",
    "while x > 0:\n",
    "    print(x)\n",
    "```\n",
    "\n",
    "**Task 2**\n",
    "What is the output of the following code? How could you fix it?\n",
    "```python\n",
    "for i in range(10, 1):\n",
    "    print(i)\n",
    "```\n",
    "\n",
    "**Task 3**\n",
    "There is an error in the following code. Fix it and explain what the error is.\n",
    "```python\n",
    "count = 0\n",
    "while count < 5:\n",
    "print(count)\n",
    "    count += 1\n",
    "```"
   ]
  },
  {
   "cell_type": "markdown",
   "metadata": {},
   "source": [
    "Task 1 - You get stuck in an infinte loop, as 1 is always greater than 0. No code to exit the while loop. "
   ]
  },
  {
   "cell_type": "code",
   "execution_count": 42,
   "metadata": {},
   "outputs": [
    {
     "name": "stdout",
     "output_type": "stream",
     "text": [
      "5\n",
      "4\n",
      "3\n",
      "2\n",
      "1\n"
     ]
    }
   ],
   "source": [
    "x = 5\n",
    "while x > 0:\n",
    "    print(x)\n",
    "    x -= 1"
   ]
  },
  {
   "cell_type": "markdown",
   "metadata": {},
   "source": [
    "Task 2 - The code does not include the step size for the sequence in reverse. "
   ]
  },
  {
   "cell_type": "code",
   "execution_count": 49,
   "metadata": {},
   "outputs": [
    {
     "name": "stdout",
     "output_type": "stream",
     "text": [
      "1\n",
      "2\n",
      "3\n",
      "4\n",
      "5\n",
      "6\n",
      "7\n",
      "8\n",
      "9\n"
     ]
    }
   ],
   "source": [
    "for i in range(10, 1, -1):\n",
    "    print(i)"
   ]
  },
  {
   "cell_type": "markdown",
   "metadata": {},
   "source": [
    "Task 3 - Indentation issue"
   ]
  },
  {
   "cell_type": "code",
   "execution_count": 53,
   "metadata": {},
   "outputs": [
    {
     "name": "stdout",
     "output_type": "stream",
     "text": [
      "0\n",
      "1\n",
      "2\n",
      "3\n",
      "4\n"
     ]
    }
   ],
   "source": [
    "count = 0\n",
    "while count < 5:\n",
    "    print(count)\n",
    "    count += 1"
   ]
  }
 ],
 "metadata": {
  "kernelspec": {
   "display_name": "Python 3 (ipykernel)",
   "language": "python",
   "name": "python3"
  },
  "language_info": {
   "codemirror_mode": {
    "name": "ipython",
    "version": 3
   },
   "file_extension": ".py",
   "mimetype": "text/x-python",
   "name": "python",
   "nbconvert_exporter": "python",
   "pygments_lexer": "ipython3",
   "version": "3.12.1"
  }
 },
 "nbformat": 4,
 "nbformat_minor": 4
}
